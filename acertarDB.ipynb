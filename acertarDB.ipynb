{
 "cells": [
  {
   "cell_type": "code",
   "execution_count": 1,
   "metadata": {},
   "outputs": [],
   "source": [
    "import numpy as np\n",
    "import pandas as pd \n",
    "\n"
   ]
  },
  {
   "cell_type": "markdown",
   "metadata": {},
   "source": [
    "Fazendo a junção de todos os formularios pré minicursos que foram ministrados no CEFET-MG"
   ]
  },
  {
   "cell_type": "code",
   "execution_count": 2,
   "metadata": {},
   "outputs": [],
   "source": [
    "# Lista de nomes de arquivos\n",
    "arquivos = ['CSV\\Avaliação Pré Minicurso Introdução ao LaTeX (respostas) - Respostas ao formulário 1.csv', 'CSV\\Avaliação Pré Minicurso Python (respostas) - Respostas ao formulário 1.csv', 'CSV\\Avaliação Pré Minicurso Git.csv']\n",
    "\n",
    "# Lista para armazenar DataFrames individuais\n",
    "dfs = []\n",
    "\n",
    "# Loop para ler cada arquivo e adicionar ao DataFrame\n",
    "for arquivo in arquivos:\n",
    "    df = pd.read_csv(arquivo)\n",
    "    dfs.append(df)\n",
    "\n",
    "# Concatenar os DataFrames\n",
    "df_combinado = pd.concat(dfs, ignore_index=True)\n",
    "\n",
    "# Salvar o DataFrame combinado\n",
    "df_combinado.to_csv('arquivo_combinado_Pre_cefet.csv', index=False)\n"
   ]
  },
  {
   "cell_type": "markdown",
   "metadata": {},
   "source": [
    "Junção dos formularios Pré minicurso ministrados na UFJF"
   ]
  },
  {
   "cell_type": "code",
   "execution_count": null,
   "metadata": {},
   "outputs": [],
   "source": [
    "import pandas as pd\n",
    "\n",
    "# Lista de nomes de arquivos\n",
    "arquivos2 = ['CSV/Formulário Pré Minicurso Dominando o VS Code (respostas) - Respostas ao formulário 1.csv', 'CSV/Formulário Pré Minicurso Fundamentos de DevWEB (respostas) - Respostas ao formulário 1.csv']\n",
    "\n",
    "# Lista para armazenar DataFrames individuais\n",
    "dfs2 = []\n",
    "\n",
    "# Loop para ler cada arquivo e adicionar ao DataFrame\n",
    "for arquivo2 in arquivos2:\n",
    "    df2 = pd.read_csv(arquivo2)\n",
    "    dfs2.append(df2)\n",
    "\n",
    "# Concatenar os DataFrames\n",
    "df_combinado2 = pd.concat(dfs2, ignore_index=True)\n",
    "\n",
    "# Salvar o DataFrame combinado\n",
    "df_combinado2.to_csv('arquivo_combinado_Pre_JF.csv', index=False)"
   ]
  },
  {
   "cell_type": "markdown",
   "metadata": {},
   "source": [
    "No arquivo do CEFET-MG tem tecnico e graduação junto, está sendo feita a análise só com o pessoal da graduação"
   ]
  },
  {
   "cell_type": "code",
   "execution_count": 5,
   "metadata": {},
   "outputs": [],
   "source": [
    "# Ler o arquivo CSV\n",
    "df = pd.read_csv('CSV/arquivo_combinado_Pre_cefet.csv')\n",
    "\n",
    "# Filtrar apenas as linhas onde a coluna 'Qual seu curso?' contém a substring 'Engenharia'\n",
    "df_filtrado = df[df['Qual seu curso? '].str.contains('Engenharia')]\n",
    "\n",
    "# Salvar o DataFrame filtrado em um novo arquivo CSV\n",
    "df_filtrado.to_csv('arquivo_filtrado_Pre_cefet.csv', index=False)\n",
    "\n"
   ]
  },
  {
   "cell_type": "markdown",
   "metadata": {},
   "source": [
    "Fazendo a junção de todos os formularios pós minicursos que foram ministrados no CEFET-MG"
   ]
  },
  {
   "cell_type": "code",
   "execution_count": 8,
   "metadata": {},
   "outputs": [],
   "source": [
    "arquivo3 = ['CSV/Avaliação Pós Minicurso Introdução ao LaTeX (respostas) - Respostas ao formulário 1.csv', 'CSV/Avaliação Pós Minicurso Python (respostas) - Respostas ao formulário 1.csv', 'CSV/Avaliação Pós Minicurso Git.csv', 'CSV/Avaliação Pós Minicurso Git.csv']\n",
    "\n",
    "dfs3 = []\n",
    "\n",
    "for arquivo3 in arquivo3:\n",
    "    df3 = pd.read_csv(arquivo3)\n",
    "    dfs3.append(df3)\n",
    "\n",
    "df_combinado3 = pd.concat(dfs3, ignore_index=True)\n",
    "\n",
    "df_combinado3.to_csv('arquivo_combinado_Pos_cefet.csv', index=False)"
   ]
  },
  {
   "cell_type": "code",
   "execution_count": 10,
   "metadata": {},
   "outputs": [],
   "source": [
    "# Ler o arquivo CSV\n",
    "df = pd.read_csv('CSV/arquivo_combinado_Pos_cefet.csv')\n",
    "\n",
    "# Filtrar apenas as linhas onde a coluna 'Qual seu curso?' contém a substring 'Engenharia'\n",
    "df_filtrado = df[df['Qual seu curso? '].str.contains('Engenharia')]\n",
    "\n",
    "# Salvar o DataFrame filtrado em um novo arquivo CSV\n",
    "df_filtrado.to_csv('arquivo_filtrado_Pos_cefet.csv', index=False)\n"
   ]
  }
 ],
 "metadata": {
  "kernelspec": {
   "display_name": "Python 3",
   "language": "python",
   "name": "python3"
  },
  "language_info": {
   "codemirror_mode": {
    "name": "ipython",
    "version": 3
   },
   "file_extension": ".py",
   "mimetype": "text/x-python",
   "name": "python",
   "nbconvert_exporter": "python",
   "pygments_lexer": "ipython3",
   "version": "3.11.3"
  }
 },
 "nbformat": 4,
 "nbformat_minor": 2
}
