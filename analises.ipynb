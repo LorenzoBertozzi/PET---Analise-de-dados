{
 "cells": [
  {
   "cell_type": "code",
   "execution_count": null,
   "metadata": {},
   "outputs": [],
   "source": [
    "import numpy as np\n",
    "import pandas as pd \n",
    "\n"
   ]
  },
  {
   "cell_type": "markdown",
   "metadata": {},
   "source": [
    "Separação dos dados para análise 1 (Conhecimento Pré)"
   ]
  },
  {
   "cell_type": "code",
   "execution_count": null,
   "metadata": {},
   "outputs": [
    {
     "name": "stdout",
     "output_type": "stream",
     "text": [
      "24\n",
      "17\n",
      "12\n",
      "3\n",
      "20\n"
     ]
    }
   ],
   "source": [
    "df_filtrado_cefet = pd.read_csv('CSV/arquivo_filtrado_Pre_cefet.csv')\n",
    "\n",
    "conhecimento_cefet = \"1 - Como você julga seu nível de conhecimento atual sobre o tema do minicurso que você esta fazendo?\"\n",
    "\n",
    "if conhecimento_cefet in df_filtrado_cefet.columns:\n",
    "    quantidade1 = df_filtrado_cefet[conhecimento_cefet].tolist().count(1)\n",
    "else:\n",
    "    quantidade1 = 0\n",
    "print(quantidade1)\n",
    "\n",
    "if conhecimento_cefet in df_filtrado_cefet.columns:\n",
    "    quantidade2 = df_filtrado_cefet[conhecimento_cefet].tolist().count(2)\n",
    "else:\n",
    "    quantidade2 = 0\n",
    "print(quantidade2)\n",
    "\n",
    "if conhecimento_cefet in df_filtrado_cefet.columns:\n",
    "    quantidade3 = df_filtrado_cefet[conhecimento_cefet].tolist().count(3)\n",
    "else:\n",
    "    quantidade3 = 0\n",
    "print(quantidade3)\n",
    "\n",
    "if conhecimento_cefet in df_filtrado_cefet.columns:\n",
    "    quantidade4 = df_filtrado_cefet[conhecimento_cefet].tolist().count(4)\n",
    "else:\n",
    "    quantidade4 = 0\n",
    "print(quantidade4)\n",
    "\n",
    "if conhecimento_cefet in df_filtrado_cefet.columns:\n",
    "    quantidade5 = df_filtrado_cefet[conhecimento_cefet].tolist().count(5)\n",
    "else:\n",
    "    quantidade5 = 0\n",
    "print(quantidade5)\n",
    "\n",
    "\n"
   ]
  },
  {
   "cell_type": "code",
   "execution_count": null,
   "metadata": {},
   "outputs": [
    {
     "name": "stdout",
     "output_type": "stream",
     "text": [
      "8\n",
      "12\n",
      "18\n",
      "6\n",
      "1\n"
     ]
    }
   ],
   "source": [
    "df_filtrado_JF = pd.read_csv('CSV/arquivo_combinado_Pre_JF.csv')\n",
    "\n",
    "conhecimento_UFJF = \"1 - Como você julga seu nível de conhecimento atual sobre o tema do minicurso que você esta fazendo?\"   \n",
    "\n",
    "if conhecimento_UFJF in df_filtrado_JF.columns:\n",
    "    quantidade1 = df_filtrado_JF[conhecimento_UFJF].tolist().count(\"Muito Pouco\")\n",
    "else:\n",
    "    quantidade1JF = 0\n",
    "print(quantidade1)\n",
    "\n",
    "if conhecimento_UFJF in df_filtrado_JF.columns:\n",
    "    quantidade2 = df_filtrado_JF[conhecimento_UFJF].tolist().count(\"Pouco\")\n",
    "else:\n",
    "    quantidade2JF = 0\n",
    "print(quantidade2)\n",
    "\n",
    "if conhecimento_UFJF in df_filtrado_JF.columns:\n",
    "    quantidade3 = df_filtrado_JF[conhecimento_UFJF].tolist().count(\"Mediano\")\n",
    "else:\n",
    "    quantidade3JF = 0\n",
    "print(quantidade3)\n",
    "\n",
    "if conhecimento_UFJF in df_filtrado_JF.columns:\n",
    "    quantidade4 = df_filtrado_JF[conhecimento_UFJF].tolist().count(\"Bem\")\n",
    "else:\n",
    "    quantidade4JF = 0\n",
    "print(quantidade4)\n",
    "\n",
    "if conhecimento_UFJF in df_filtrado_JF.columns:\n",
    "    quantidade5 = df_filtrado_JF[conhecimento_UFJF].tolist().count(\"Muito Bem\")\n",
    "else:\n",
    "    quantidade5 = 0\n",
    "print(quantidade5)\n",
    "\n"
   ]
  },
  {
   "cell_type": "markdown",
   "metadata": {},
   "source": [
    "Separação dos dados para análise 2 (Motivação Pré)"
   ]
  },
  {
   "cell_type": "code",
   "execution_count": null,
   "metadata": {},
   "outputs": [
    {
     "name": "stdout",
     "output_type": "stream",
     "text": [
      "1\n",
      "0\n",
      "3\n",
      "17\n",
      "55\n"
     ]
    }
   ],
   "source": [
    "df_filtrado_cefet = pd.read_csv('CSV/arquivo_filtrado_Pre_cefet.csv')\n",
    "\n",
    "motivacao_cefet = \"2 - O quanto motivado você esta para realizar esse minicurso?\"\n",
    "\n",
    "if motivacao_cefet in df_filtrado_cefet.columns:\n",
    "    quantidade1M = df_filtrado_cefet[motivacao_cefet].tolist().count(1)\n",
    "else:\n",
    "    quantidade1M = 0\n",
    "print(quantidade1M)\n",
    "\n",
    "if motivacao_cefet in df_filtrado_cefet.columns:\n",
    "    quantidade2M = df_filtrado_cefet[motivacao_cefet].tolist().count(2)\n",
    "else:\n",
    "    quantidade2M = 0\n",
    "print(quantidade2M)\n",
    "\n",
    "if motivacao_cefet in df_filtrado_cefet.columns:\n",
    "    quantidade3M = df_filtrado_cefet[motivacao_cefet].tolist().count(3)\n",
    "else:\n",
    "    quantidade3M = 0\n",
    "print(quantidade3M)\n",
    "\n",
    "if motivacao_cefet in df_filtrado_cefet.columns:\n",
    "    quantidade4M = df_filtrado_cefet[motivacao_cefet].tolist().count(4)\n",
    "else:\n",
    "    quantidade4M = 0\n",
    "print(quantidade4M)\n",
    "\n",
    "if motivacao_cefet in df_filtrado_cefet.columns:\n",
    "    quantidade5M = df_filtrado_cefet[motivacao_cefet].tolist().count(5)\n",
    "else:\n",
    "    quantidade5M = 0\n",
    "print(quantidade5M)\n",
    "    "
   ]
  },
  {
   "cell_type": "code",
   "execution_count": null,
   "metadata": {},
   "outputs": [
    {
     "name": "stdout",
     "output_type": "stream",
     "text": [
      "1\n",
      "0\n",
      "0\n",
      "23\n",
      "21\n"
     ]
    }
   ],
   "source": [
    "df_filtrado_JF = pd.read_csv('CSV/arquivo_combinado_Pre_JF.csv')\n",
    "\n",
    "motivacao_UFJF = \"2 - O quanto motivado você esta para realizar esse minicurso?\"\n",
    "\n",
    "if motivacao_UFJF in df_filtrado_JF.columns:\n",
    "    quantidade1M = df_filtrado_JF[motivacao_UFJF].tolist().count(\"Muito Pouco\")\n",
    "else:\n",
    "    quantidade1M = 0\n",
    "print(quantidade1M)\n",
    "\n",
    "if motivacao_UFJF in df_filtrado_JF.columns:\n",
    "    quantidade2M = df_filtrado_JF[motivacao_UFJF].tolist().count(\"Pouco\")\n",
    "else:\n",
    "    quantidade2M = 0\n",
    "print(quantidade2M)\n",
    "\n",
    "if motivacao_UFJF in df_filtrado_JF.columns:\n",
    "    quantidade3M = df_filtrado_JF[motivacao_UFJF].tolist().count(\"Indeferente\")\n",
    "else:\n",
    "    quantidade3M = 0\n",
    "print(quantidade3M)\n",
    "\n",
    "if motivacao_UFJF in df_filtrado_JF.columns:\n",
    "    quantidade4M = df_filtrado_JF[motivacao_UFJF].tolist().count(\"Motivado\")\n",
    "else:\n",
    "    quantidade4M = 0\n",
    "print(quantidade4M)\n",
    "\n",
    "if motivacao_UFJF in df_filtrado_JF.columns:\n",
    "    quantidade5M = df_filtrado_JF[motivacao_UFJF].tolist().count(\"Muito Motivado\")\n",
    "else:\n",
    "    quantidade5M = 0\n",
    "print(quantidade5M)\n",
    "\n"
   ]
  },
  {
   "cell_type": "markdown",
   "metadata": {},
   "source": [
    "Separação dos dados para análise 3 (Comparação conhecimento pré com o pós)"
   ]
  },
  {
   "cell_type": "code",
   "execution_count": null,
   "metadata": {},
   "outputs": [
    {
     "name": "stdout",
     "output_type": "stream",
     "text": [
      "0\n",
      "4\n",
      "15\n",
      "25\n",
      "63\n"
     ]
    }
   ],
   "source": [
    "df_filtrado_cefet = pd.read_csv('CSV/arquivo_filtrado_Pos_cefet.csv')\n",
    "\n",
    "aprendizado_cefet = \"4- Como você julga seu nível de conhecimento a acerca do tema após o minicurso:\"\n",
    "\n",
    "if aprendizado_cefet in df_filtrado_cefet.columns:\n",
    "    quantidade1A = df_filtrado_cefet[aprendizado_cefet].tolist().count(1)\n",
    "else:\n",
    "    quantidade1A = 0\n",
    "print(quantidade1A)\n",
    "\n",
    "if aprendizado_cefet in df_filtrado_cefet.columns:\n",
    "    quantidade2A = df_filtrado_cefet[aprendizado_cefet].tolist().count(2)\n",
    "else:\n",
    "    quantidade2A = 0\n",
    "print(quantidade2A)\n",
    "\n",
    "if aprendizado_cefet in df_filtrado_cefet.columns:\n",
    "    quantidade3A = df_filtrado_cefet[aprendizado_cefet].tolist().count(3)\n",
    "else:\n",
    "    quantidade3A = 0\n",
    "print(quantidade3A)\n",
    "\n",
    "if aprendizado_cefet in df_filtrado_cefet.columns:\n",
    "    quantidade4A = df_filtrado_cefet[aprendizado_cefet].tolist().count(4)\n",
    "else:\n",
    "    quantidade4A = 0\n",
    "print(quantidade4A)\n",
    "\n",
    "if aprendizado_cefet in df_filtrado_cefet.columns:\n",
    "    quantidade5A = df_filtrado_cefet[aprendizado_cefet].tolist().count(5)\n",
    "else:\n",
    "    quantidade5A = 0\n",
    "print(quantidade5A)\n",
    "\n"
   ]
  }
 ],
 "metadata": {
  "language_info": {
   "name": "python"
  }
 },
 "nbformat": 4,
 "nbformat_minor": 2
}
