{
 "cells": [
  {
   "cell_type": "code",
   "execution_count": 3,
   "metadata": {},
   "outputs": [],
   "source": [
    "import numpy as np\n",
    "import pandas as pd \n",
    "\n"
   ]
  },
  {
   "cell_type": "markdown",
   "metadata": {},
   "source": [
    "Fazendo a junção de todos os minicursos que foram ministrados no CEFET-MG e dos minicursos ministrados na UFJF"
   ]
  },
  {
   "cell_type": "code",
   "execution_count": 4,
   "metadata": {},
   "outputs": [],
   "source": [
    "df1 = pd.read_csv('CSV\\Avaliação Pré Minicurso Introdução ao LaTeX (respostas) - Respostas ao formulário 1.csv')\n",
    "df2 = pd.read_csv('CSV\\Avaliação Pré Minicurso Python (respostas) - Respostas ao formulário 1.csv')\n",
    "\n",
    "import pandas as pd\n",
    "\n",
    "# Lista de nomes de arquivos\n",
    "arquivos = ['CSV\\Avaliação Pré Minicurso Introdução ao LaTeX (respostas) - Respostas ao formulário 1.csv', 'CSV\\Avaliação Pré Minicurso Python (respostas) - Respostas ao formulário 1.csv']\n",
    "\n",
    "# Lista para armazenar DataFrames individuais\n",
    "dfs = []\n",
    "\n",
    "# Loop para ler cada arquivo e adicionar ao DataFrame\n",
    "for arquivo in arquivos:\n",
    "    df = pd.read_csv(arquivo)\n",
    "    dfs.append(df)\n",
    "\n",
    "# Concatenar os DataFrames\n",
    "df_combinado = pd.concat(dfs, ignore_index=True)\n",
    "\n",
    "# Salvar o DataFrame combinado\n",
    "df_combinado.to_csv('arquivo_combinado_Pre_cefet.csv', index=False)\n"
   ]
  },
  {
   "cell_type": "code",
   "execution_count": null,
   "metadata": {},
   "outputs": [],
   "source": [
    "import pandas as pd\n",
    "\n",
    "# Lista de nomes de arquivos\n",
    "arquivos2 = ['CSV/Formulário Pré Minicurso Dominando o VS Code (respostas) - Respostas ao formulário 1.csv', 'CSV/Formulário Pré Minicurso Fundamentos de DevWEB (respostas) - Respostas ao formulário 1.csv']\n",
    "\n",
    "# Lista para armazenar DataFrames individuais\n",
    "dfs2 = []\n",
    "\n",
    "# Loop para ler cada arquivo e adicionar ao DataFrame\n",
    "for arquivo2 in arquivos2:\n",
    "    df2 = pd.read_csv(arquivo2)\n",
    "    dfs2.append(df2)\n",
    "\n",
    "# Concatenar os DataFrames\n",
    "df_combinado2 = pd.concat(dfs2, ignore_index=True)\n",
    "\n",
    "# Salvar o DataFrame combinado\n",
    "df_combinado2.to_csv('arquivo_combinado_Pre_JF.csv', index=False)"
   ]
  },
  {
   "cell_type": "markdown",
   "metadata": {},
   "source": [
    "No arquivo do CEFET-MG tem tecnico e graduação junto, está sendo feita a análise só com o pessoal da graduação"
   ]
  },
  {
   "cell_type": "markdown",
   "metadata": {},
   "source": [
    "SE BAIXAR A PASTA TODA NÃO PRECISA RODAR"
   ]
  },
  {
   "cell_type": "code",
   "execution_count": 13,
   "metadata": {},
   "outputs": [],
   "source": [
    "# Ler o arquivo CSV\n",
    "df = pd.read_csv('CSV/arquivo_combinado_Pre_cefet.csv')\n",
    "\n",
    "# Filtrar apenas as linhas onde a coluna 'Qual seu curso?' contém a substring 'Engenharia'\n",
    "df_filtrado = df[df['Qual seu curso? '].str.contains('Engenharia')]\n",
    "\n",
    "# Salvar o DataFrame filtrado em um novo arquivo CSV\n",
    "df_filtrado.to_csv('arquivo_filtrado_Pre_cefet.csv', index=False)\n",
    "\n"
   ]
  },
  {
   "cell_type": "markdown",
   "metadata": {},
   "source": [
    "Aqui é feita a separação dos dados que precisamos para a análise 1, obetendo esses dados são feitos gráficos no excel"
   ]
  },
  {
   "cell_type": "code",
   "execution_count": 15,
   "metadata": {},
   "outputs": [
    {
     "name": "stdout",
     "output_type": "stream",
     "text": [
      "16\n",
      "8\n",
      "8\n",
      "3\n",
      "10\n"
     ]
    }
   ],
   "source": [
    "df_filtrado_cefet = pd.read_csv('CSV/arquivo_filtrado_Pre_cefet.csv')\n",
    "\n",
    "conhecimento_cefet = \"1 - Como você julga seu nível de conhecimento atual sobre o tema do minicurso que você esta fazendo?\"\n",
    "\n",
    "if conhecimento_cefet in df_filtrado_cefet.columns:\n",
    "    quantidade1 = df_filtrado_cefet[conhecimento_cefet].tolist().count(1)\n",
    "else:\n",
    "    quantidade1 = 0\n",
    "print(quantidade1)\n",
    "\n",
    "if conhecimento_cefet in df_filtrado_cefet.columns:\n",
    "    quantidade2 = df_filtrado_cefet[conhecimento_cefet].tolist().count(2)\n",
    "else:\n",
    "    quantidade2 = 0\n",
    "print(quantidade2)\n",
    "\n",
    "if conhecimento_cefet in df_filtrado_cefet.columns:\n",
    "    quantidade3 = df_filtrado_cefet[conhecimento_cefet].tolist().count(3)\n",
    "else:\n",
    "    quantidade3 = 0\n",
    "print(quantidade3)\n",
    "\n",
    "if conhecimento_cefet in df_filtrado_cefet.columns:\n",
    "    quantidade4 = df_filtrado_cefet[conhecimento_cefet].tolist().count(4)\n",
    "else:\n",
    "    quantidade4 = 0\n",
    "print(quantidade4)\n",
    "\n",
    "if conhecimento_cefet in df_filtrado_cefet.columns:\n",
    "    quantidade5 = df_filtrado_cefet[conhecimento_cefet].tolist().count(5)\n",
    "else:\n",
    "    quantidade5 = 0\n",
    "print(quantidade5)\n",
    "\n",
    "\n"
   ]
  },
  {
   "cell_type": "code",
   "execution_count": 17,
   "metadata": {},
   "outputs": [
    {
     "name": "stdout",
     "output_type": "stream",
     "text": [
      "8\n",
      "12\n",
      "18\n",
      "6\n",
      "1\n"
     ]
    }
   ],
   "source": [
    "df_filtrado_JF = pd.read_csv('CSV/arquivo_combinado_Pre_JF.csv')\n",
    "\n",
    "conhecimento_UFJF = \"1 - Como você julga seu nível de conhecimento atual sobre o tema do minicurso que você esta fazendo?\"   \n",
    "\n",
    "if conhecimento_UFJF in df_filtrado_JF.columns:\n",
    "    quantidade1 = df_filtrado_JF[conhecimento_UFJF].tolist().count(\"Muito Pouco\")\n",
    "else:\n",
    "    quantidade1JF = 0\n",
    "print(quantidade1)\n",
    "\n",
    "if conhecimento_UFJF in df_filtrado_JF.columns:\n",
    "    quantidade2 = df_filtrado_JF[conhecimento_UFJF].tolist().count(\"Pouco\")\n",
    "else:\n",
    "    quantidade2JF = 0\n",
    "print(quantidade2)\n",
    "\n",
    "if conhecimento_UFJF in df_filtrado_JF.columns:\n",
    "    quantidade3 = df_filtrado_JF[conhecimento_UFJF].tolist().count(\"Mediano\")\n",
    "else:\n",
    "    quantidade3JF = 0\n",
    "print(quantidade3)\n",
    "\n",
    "if conhecimento_UFJF in df_filtrado_JF.columns:\n",
    "    quantidade4 = df_filtrado_JF[conhecimento_UFJF].tolist().count(\"Bem\")\n",
    "else:\n",
    "    quantidade4JF = 0\n",
    "print(quantidade4)\n",
    "\n",
    "if conhecimento_UFJF in df_filtrado_JF.columns:\n",
    "    quantidade5 = df_filtrado_JF[conhecimento_UFJF].tolist().count(\"Muito Bem\")\n",
    "else:\n",
    "    quantidade5 = 0\n",
    "print(quantidade5)\n",
    "\n"
   ]
  },
  {
   "cell_type": "markdown",
   "metadata": {},
   "source": [
    "Separação dos dados para análise 2"
   ]
  },
  {
   "cell_type": "code",
   "execution_count": 18,
   "metadata": {},
   "outputs": [
    {
     "name": "stdout",
     "output_type": "stream",
     "text": [
      "0\n",
      "0\n",
      "1\n",
      "12\n",
      "32\n"
     ]
    }
   ],
   "source": [
    "df_filtrado_cefet = pd.read_csv('CSV/arquivo_filtrado_Pre_cefet.csv')\n",
    "\n",
    "motivacao_cefet = \"2 - O quanto motivado você esta para realizar esse minicurso?\"\n",
    "\n",
    "if motivacao_cefet in df_filtrado_cefet.columns:\n",
    "    quantidade1M = df_filtrado_cefet[motivacao_cefet].tolist().count(1)\n",
    "else:\n",
    "    quantidade1M = 0\n",
    "print(quantidade1M)\n",
    "\n",
    "if motivacao_cefet in df_filtrado_cefet.columns:\n",
    "    quantidade2M = df_filtrado_cefet[motivacao_cefet].tolist().count(2)\n",
    "else:\n",
    "    quantidade2M = 0\n",
    "print(quantidade2M)\n",
    "\n",
    "if motivacao_cefet in df_filtrado_cefet.columns:\n",
    "    quantidade3M = df_filtrado_cefet[motivacao_cefet].tolist().count(3)\n",
    "else:\n",
    "    quantidade3M = 0\n",
    "print(quantidade3M)\n",
    "\n",
    "if motivacao_cefet in df_filtrado_cefet.columns:\n",
    "    quantidade4M = df_filtrado_cefet[motivacao_cefet].tolist().count(4)\n",
    "else:\n",
    "    quantidade4M = 0\n",
    "print(quantidade4M)\n",
    "\n",
    "if motivacao_cefet in df_filtrado_cefet.columns:\n",
    "    quantidade5M = df_filtrado_cefet[motivacao_cefet].tolist().count(5)\n",
    "else:\n",
    "    quantidade5M = 0\n",
    "print(quantidade5M)\n",
    "    "
   ]
  },
  {
   "cell_type": "code",
   "execution_count": 20,
   "metadata": {},
   "outputs": [
    {
     "name": "stdout",
     "output_type": "stream",
     "text": [
      "1\n",
      "0\n",
      "0\n",
      "23\n",
      "21\n"
     ]
    }
   ],
   "source": [
    "df_filtrado_JF = pd.read_csv('CSV/arquivo_combinado_Pre_JF.csv')\n",
    "\n",
    "motivacao_UFJF = \"2 - O quanto motivado você esta para realizar esse minicurso?\"\n",
    "\n",
    "if motivacao_UFJF in df_filtrado_JF.columns:\n",
    "    quantidade1M = df_filtrado_JF[motivacao_UFJF].tolist().count(\"Muito Pouco\")\n",
    "else:\n",
    "    quantidade1M = 0\n",
    "print(quantidade1M)\n",
    "\n",
    "if motivacao_UFJF in df_filtrado_JF.columns:\n",
    "    quantidade2M = df_filtrado_JF[motivacao_UFJF].tolist().count(\"Pouco\")\n",
    "else:\n",
    "    quantidade2M = 0\n",
    "print(quantidade2M)\n",
    "\n",
    "if motivacao_UFJF in df_filtrado_JF.columns:\n",
    "    quantidade3M = df_filtrado_JF[motivacao_UFJF].tolist().count(\"Indeferente\")\n",
    "else:\n",
    "    quantidade3M = 0\n",
    "print(quantidade3M)\n",
    "\n",
    "if motivacao_UFJF in df_filtrado_JF.columns:\n",
    "    quantidade4M = df_filtrado_JF[motivacao_UFJF].tolist().count(\"Motivado\")\n",
    "else:\n",
    "    quantidade4M = 0\n",
    "print(quantidade4M)\n",
    "\n",
    "if motivacao_UFJF in df_filtrado_JF.columns:\n",
    "    quantidade5M = df_filtrado_JF[motivacao_UFJF].tolist().count(\"Muito Motivado\")\n",
    "else:\n",
    "    quantidade5M = 0\n",
    "print(quantidade5M)\n",
    "\n"
   ]
  }
 ],
 "metadata": {
  "kernelspec": {
   "display_name": "Python 3",
   "language": "python",
   "name": "python3"
  },
  "language_info": {
   "codemirror_mode": {
    "name": "ipython",
    "version": 3
   },
   "file_extension": ".py",
   "mimetype": "text/x-python",
   "name": "python",
   "nbconvert_exporter": "python",
   "pygments_lexer": "ipython3",
   "version": "3.11.6"
  }
 },
 "nbformat": 4,
 "nbformat_minor": 2
}
