{
 "cells": [
  {
   "cell_type": "code",
   "execution_count": 13,
   "metadata": {},
   "outputs": [],
   "source": [
    "import numpy as np\n",
    "import pandas as pd \n",
    "import matplotlib.pyplot as plt\n"
   ]
  },
  {
   "cell_type": "markdown",
   "metadata": {},
   "source": [
    "Fazendo a junção de todos os minicursos que foram ministrados no CEFET-MG e dos minicursos ministrados na UFJF"
   ]
  },
  {
   "cell_type": "code",
   "execution_count": 14,
   "metadata": {},
   "outputs": [],
   "source": [
    "df1 = pd.read_csv('CSV\\Avaliação Pré Minicurso Introdução ao LaTeX (respostas) - Respostas ao formulário 1.csv')\n",
    "df2 = pd.read_csv('CSV\\Avaliação Pré Minicurso Python (respostas) - Respostas ao formulário 1.csv')\n",
    "\n",
    "import pandas as pd\n",
    "\n",
    "# Lista de nomes de arquivos\n",
    "arquivos = ['CSV\\Avaliação Pré Minicurso Introdução ao LaTeX (respostas) - Respostas ao formulário 1.csv', 'CSV\\Avaliação Pré Minicurso Python (respostas) - Respostas ao formulário 1.csv']\n",
    "\n",
    "# Lista para armazenar DataFrames individuais\n",
    "dfs = []\n",
    "\n",
    "# Loop para ler cada arquivo e adicionar ao DataFrame\n",
    "for arquivo in arquivos:\n",
    "    df = pd.read_csv(arquivo)\n",
    "    dfs.append(df)\n",
    "\n",
    "# Concatenar os DataFrames\n",
    "df_combinado = pd.concat(dfs, ignore_index=True)\n",
    "\n",
    "# Salvar o DataFrame combinado\n",
    "df_combinado.to_csv('arquivo_combinado_Pre.csv', index=False)\n"
   ]
  },
  {
   "cell_type": "code",
   "execution_count": null,
   "metadata": {},
   "outputs": [],
   "source": [
    "import pandas as pd\n",
    "\n",
    "# Lista de nomes de arquivos\n",
    "arquivos2 = ['CSV/Formulário Pré Minicurso Dominando o VS Code (respostas) - Respostas ao formulário 1.csv', 'CSV/Formulário Pré Minicurso Fundamentos de DevWEB (respostas) - Respostas ao formulário 1.csv']\n",
    "\n",
    "# Lista para armazenar DataFrames individuais\n",
    "dfs2 = []\n",
    "\n",
    "# Loop para ler cada arquivo e adicionar ao DataFrame\n",
    "for arquivo2 in arquivos2:\n",
    "    df2 = pd.read_csv(arquivo2)\n",
    "    dfs2.append(df2)\n",
    "\n",
    "# Concatenar os DataFrames\n",
    "df_combinado2 = pd.concat(dfs2, ignore_index=True)\n",
    "\n",
    "# Salvar o DataFrame combinado\n",
    "df_combinado2.to_csv('arquivo_combinadoJF.csv', index=False)"
   ]
  },
  {
   "cell_type": "markdown",
   "metadata": {},
   "source": [
    "No arquivo do CEFET-MG tem tecnico e graduação junto, está sendo feita a análise só com o pessoal da graduação"
   ]
  },
  {
   "cell_type": "code",
   "execution_count": 15,
   "metadata": {},
   "outputs": [],
   "source": [
    "# Ler o arquivo CSV\n",
    "df = pd.read_csv('CSV/arquivo_combinado_Pre.csv')\n",
    "\n",
    "# Filtrar apenas as linhas onde a coluna 'Qual seu curso?' contém a substring 'Engenharia'\n",
    "df_filtrado = df[df['Qual seu curso? '].str.contains('Engenharia')]\n",
    "\n",
    "# Salvar o DataFrame filtrado em um novo arquivo CSV\n",
    "df_filtrado.to_csv('arquivo_filtrado.csv', index=False)\n",
    "\n"
   ]
  },
  {
   "cell_type": "markdown",
   "metadata": {},
   "source": [
    "Aqui é feita a separação dos dados que precisamos para a análise 1, obetendo esses dados são feitos gráficos no excel"
   ]
  },
  {
   "cell_type": "code",
   "execution_count": 16,
   "metadata": {},
   "outputs": [
    {
     "name": "stdout",
     "output_type": "stream",
     "text": [
      "16\n",
      "8\n",
      "8\n",
      "3\n",
      "10\n"
     ]
    }
   ],
   "source": [
    "column_name = \"1 - Como você julga seu nível de conhecimento atual sobre o tema do minicurso que você esta fazendo?\"\n",
    "if column_name in df_filtrado.columns:\n",
    "    quantidade1 = df_filtrado[column_name].tolist().count(1)\n",
    "else:\n",
    "    quantidade1 = 0\n",
    "print(quantidade1)\n",
    "\n",
    "column_name = \"1 - Como você julga seu nível de conhecimento atual sobre o tema do minicurso que você esta fazendo?\"\n",
    "if column_name in df_filtrado.columns:\n",
    "    quantidade2 = df_filtrado[column_name].tolist().count(2)\n",
    "else:\n",
    "    quantidade2 = 0\n",
    "print(quantidade2)\n",
    "\n",
    "column_name = \"1 - Como você julga seu nível de conhecimento atual sobre o tema do minicurso que você esta fazendo?\"\n",
    "if column_name in df_filtrado.columns:\n",
    "    quantidade3 = df_filtrado[column_name].tolist().count(3)\n",
    "else:\n",
    "    quantidade3 = 0\n",
    "print(quantidade3)\n",
    "\n",
    "column_name = \"1 - Como você julga seu nível de conhecimento atual sobre o tema do minicurso que você esta fazendo?\"\n",
    "if column_name in df_filtrado.columns:\n",
    "    quantidade4 = df_filtrado[column_name].tolist().count(4)\n",
    "else:\n",
    "    quantidade4 = 0\n",
    "print(quantidade4)\n",
    "\n",
    "column_name = \"1 - Como você julga seu nível de conhecimento atual sobre o tema do minicurso que você esta fazendo?\"\n",
    "if column_name in df_filtrado.columns:\n",
    "    quantidade5 = df_filtrado[column_name].tolist().count(5)\n",
    "else:\n",
    "    quantidade5 = 0\n",
    "print(quantidade5)\n",
    "\n",
    "\n"
   ]
  },
  {
   "cell_type": "code",
   "execution_count": 12,
   "metadata": {},
   "outputs": [
    {
     "name": "stdout",
     "output_type": "stream",
     "text": [
      "8\n",
      "12\n",
      "18\n",
      "6\n",
      "1\n"
     ]
    }
   ],
   "source": [
    "column_name2 = \"1 - Como você julga seu nível de conhecimento atual sobre o tema do minicurso que você esta fazendo?\"   \n",
    "if column_name2 in df_combinado2.columns:\n",
    "    quantidade1JF = df_combinado2[column_name2].tolist().count(\"Muito Pouco\")\n",
    "else:\n",
    "    quantidade1JF = 0\n",
    "print(quantidade1JF)\n",
    "\n",
    "column_name2 = \"1 - Como você julga seu nível de conhecimento atual sobre o tema do minicurso que você esta fazendo?\"\n",
    "if column_name2 in df_combinado2.columns:\n",
    "    quantidade2JF = df_combinado2[column_name2].tolist().count(\"Pouco\")\n",
    "else:\n",
    "    quantidade2JF = 0\n",
    "print(quantidade2JF)\n",
    "\n",
    "column_name2 = \"1 - Como você julga seu nível de conhecimento atual sobre o tema do minicurso que você esta fazendo?\"\n",
    "if column_name2 in df_combinado2.columns:\n",
    "    quantidade3JF = df_combinado2[column_name2].tolist().count(\"Mediano\")\n",
    "else:\n",
    "    quantidade3JF = 0\n",
    "print(quantidade3JF)\n",
    "\n",
    "column_name2 = \"1 - Como você julga seu nível de conhecimento atual sobre o tema do minicurso que você esta fazendo?\"\n",
    "if column_name2 in df_combinado2.columns:\n",
    "    quantidade4JF = df_combinado2[column_name2].tolist().count(\"Bem\")\n",
    "else:\n",
    "    quantidade4JF = 0\n",
    "print(quantidade4JF)\n",
    "\n",
    "column_name2 = \"1 - Como você julga seu nível de conhecimento atual sobre o tema do minicurso que você esta fazendo?\"\n",
    "if column_name2 in df_combinado2.columns:\n",
    "    quantidade5JF = df_combinado2[column_name2].tolist().count(\"Muito Bem\")\n",
    "else:\n",
    "    quantidade5JF = 0\n",
    "print(quantidade5JF)\n",
    "\n"
   ]
  },
  {
   "cell_type": "markdown",
   "metadata": {},
   "source": [
    "Separação dos dados para análise 2"
   ]
  },
  {
   "cell_type": "code",
   "execution_count": null,
   "metadata": {},
   "outputs": [],
   "source": []
  }
 ],
 "metadata": {
  "kernelspec": {
   "display_name": "Python 3",
   "language": "python",
   "name": "python3"
  },
  "language_info": {
   "codemirror_mode": {
    "name": "ipython",
    "version": 3
   },
   "file_extension": ".py",
   "mimetype": "text/x-python",
   "name": "python",
   "nbconvert_exporter": "python",
   "pygments_lexer": "ipython3",
   "version": "3.11.3"
  }
 },
 "nbformat": 4,
 "nbformat_minor": 2
}
